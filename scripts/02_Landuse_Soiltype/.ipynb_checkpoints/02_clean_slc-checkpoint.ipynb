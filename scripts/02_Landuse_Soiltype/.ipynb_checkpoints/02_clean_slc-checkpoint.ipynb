{
 "cells": [
  {
   "cell_type": "markdown",
   "id": "d1724e0f-3e81-4f60-a065-19cf9b38f889",
   "metadata": {},
   "source": [
    "# Description\n",
    "____\n",
    "\n",
    "This script formats SLCs in ascending order and renames them to have no gaps. "
   ]
  },
  {
   "cell_type": "code",
   "execution_count": null,
   "id": "e07f7e7d-975a-468c-a88b-49d1f7932f2e",
   "metadata": {},
   "outputs": [],
   "source": [
    "import pandas as pd"
   ]
  },
  {
   "cell_type": "markdown",
   "id": "63e08b41-1c82-42ec-855a-a1220f23d599",
   "metadata": {},
   "source": [
    "### Inputs"
   ]
  },
  {
   "cell_type": "code",
   "execution_count": null,
   "id": "f5698d24-38a1-45f6-899a-ee6a837be838",
   "metadata": {},
   "outputs": [],
   "source": [
    "slc = pd.read_csv('../geospacial/slc/stmary_landsat_slc.csv', index_col=0)"
   ]
  },
  {
   "cell_type": "markdown",
   "id": "e3184743-10b1-4e71-af7f-b4834a0ecdd1",
   "metadata": {},
   "source": [
    "### Clean up SLCs"
   ]
  },
  {
   "cell_type": "code",
   "execution_count": null,
   "id": "7e4b7aad-ac23-49da-a838-c20c4ada3f16",
   "metadata": {
    "tags": []
   },
   "outputs": [],
   "source": [
    "# Remove columns with only zero values\n",
    "slc = slc.loc[:, (slc != 0).any(axis=0)]"
   ]
  },
  {
   "cell_type": "code",
   "execution_count": null,
   "id": "e20e73ac-2a8f-4488-a545-37a2977a9993",
   "metadata": {},
   "outputs": [],
   "source": [
    "# Check if all St. Mary rows sum to the target value within tolerance\n",
    "all_rows_sum_to_zero = ((slc.sum(axis=1) - 1).abs() < 0.00000000001).all()\n",
    "\n",
    "if all_rows_sum_to_zero:\n",
    "    print(\"All SLC rows sum to zero.\")\n",
    "else:\n",
    "    print(\"Not SLC all rows sum to zero.\")"
   ]
  },
  {
   "cell_type": "markdown",
   "id": "0cb45a6b-fa16-4b51-867d-a43cd660dc0a",
   "metadata": {},
   "source": [
    "### Remap SLC names to remove missing classes"
   ]
  },
  {
   "cell_type": "code",
   "execution_count": null,
   "id": "74427584-0b44-4dde-b0b3-19855c19ac99",
   "metadata": {},
   "outputs": [],
   "source": [
    "# Assuming 'df' is your DataFrame containing the original column names\n",
    "original_headers = slc.columns.tolist()\n",
    "new_columns = []"
   ]
  },
  {
   "cell_type": "code",
   "execution_count": null,
   "id": "5b342c77-ea59-4ea3-9628-f67f8aec2ba3",
   "metadata": {},
   "outputs": [],
   "source": [
    "# Step 1: Separate 4-digit numbers into two 2-digit numbers\n",
    "separated_numbers = [(int(str(col)[:2]), int(str(col)[2:])) for col in slc.columns]"
   ]
  },
  {
   "cell_type": "code",
   "execution_count": null,
   "id": "af07fd18-4f6e-4f64-92a2-14b9a692d3b7",
   "metadata": {},
   "outputs": [],
   "source": [
    "# Step 2: Find the amount of unique values in the arrays of first 2 letters and last 2 letters\n",
    "unique_first = len(set(first for first, _ in separated_numbers))\n",
    "unique_second = len(set(second for _, second in separated_numbers))"
   ]
  },
  {
   "cell_type": "code",
   "execution_count": null,
   "id": "0a359564-dd2b-4d63-99d4-8637004ff34e",
   "metadata": {},
   "outputs": [],
   "source": [
    "# Step 3: Map each unique 2-digit number to a number in the list of unique values in ascending order\n",
    "mapped_first = {num: i + 1 for i, num in enumerate(sorted(set(first for first, _ in separated_numbers)))}\n",
    "mapped_second = {num: i + 1 for i, num in enumerate(sorted(set(second for _, second in separated_numbers)))}"
   ]
  },
  {
   "cell_type": "code",
   "execution_count": null,
   "id": "95c28f0d-29f9-4128-b050-cb19d89c7f49",
   "metadata": {},
   "outputs": [],
   "source": [
    "# Step 4: Replace each pair of 2-digit numbers with their corresponding mapped values\n",
    "new_columns = [(mapped_first[first], mapped_second[second]) for first, second in separated_numbers]"
   ]
  },
  {
   "cell_type": "code",
   "execution_count": null,
   "id": "d65545aa-a700-474e-852e-00d079e22de6",
   "metadata": {},
   "outputs": [],
   "source": [
    "# Step 5: Rename columns in the DataFrame 'slc' to match the new column names\n",
    "new_headers = [f\"{first:02d}{second:02d}\" for first, second in new_columns]\n",
    "slc.rename(columns=dict(zip(original_headers, new_headers)), inplace=True)"
   ]
  },
  {
   "cell_type": "code",
   "execution_count": null,
   "id": "11db280f-040c-4dba-94b1-1ec46ece9e62",
   "metadata": {},
   "outputs": [],
   "source": [
    "# Step 7: Check column names in the DataFrame 'slc' after renaming\n",
    "for column_name in slc.columns:\n",
    "    if len(column_name) != 4:\n",
    "        raise ValueError(\"Some column names do not have four digits after renaming.\")"
   ]
  },
  {
   "cell_type": "code",
   "execution_count": null,
   "id": "88c609c9-44f0-453e-b168-d44d4867cf29",
   "metadata": {},
   "outputs": [],
   "source": [
    "# Save mapped_first to a text file called 'adjusted_landuse.txt'\n",
    "with open('../geospacial/adjusted_landuse.txt', 'w') as file:\n",
    "    for key, value in mapped_first.items():\n",
    "        file.write(f\"{key}: {value}\\n\")"
   ]
  },
  {
   "cell_type": "code",
   "execution_count": null,
   "id": "54e45b03-fd67-4f45-a406-243d624aa3c7",
   "metadata": {},
   "outputs": [],
   "source": [
    "# Save mapped_second to a text file called 'adjusted_soiltype.txt'\n",
    "with open('../geospacial/adjusted_soiltype.txt', 'w') as file:\n",
    "    for key, value in mapped_second.items():\n",
    "        file.write(f\"{key}: {value}\\n\")"
   ]
  },
  {
   "cell_type": "markdown",
   "id": "fe09aa65-3c15-4e6e-86dc-a7a95805fa0e",
   "metadata": {},
   "source": [
    "### Re-order columns in ascending order"
   ]
  },
  {
   "cell_type": "code",
   "execution_count": null,
   "id": "7cdc0196-66ef-45e5-b1c3-95d192ae764a",
   "metadata": {},
   "outputs": [],
   "source": [
    "# Sort columns in ascending order of first 2 digits and then the second 2 digits\n",
    "slc_sorted = slc.reindex(sorted(slc.columns, key=lambda x: (int(x[:2]), int(x[2:]))), axis=1)"
   ]
  },
  {
   "cell_type": "code",
   "execution_count": null,
   "id": "ef3a2643-1f0f-4873-a09e-2a667744fbde",
   "metadata": {},
   "outputs": [],
   "source": [
    "# Save the DataFrame as a CSV file\n",
    "slc_sorted.to_csv('../geospacial/slc/sorted_final_slc.csv')"
   ]
  },
  {
   "cell_type": "code",
   "execution_count": null,
   "id": "1b4512c4-c5cf-4578-a1a1-18d875a39214",
   "metadata": {},
   "outputs": [],
   "source": []
  }
 ],
 "metadata": {
  "kernelspec": {
   "display_name": "Python 3 (ipykernel)",
   "language": "python",
   "name": "python3"
  },
  "language_info": {
   "codemirror_mode": {
    "name": "ipython",
    "version": 3
   },
   "file_extension": ".py",
   "mimetype": "text/x-python",
   "name": "python",
   "nbconvert_exporter": "python",
   "pygments_lexer": "ipython3",
   "version": "3.10.13"
  }
 },
 "nbformat": 4,
 "nbformat_minor": 5
}
