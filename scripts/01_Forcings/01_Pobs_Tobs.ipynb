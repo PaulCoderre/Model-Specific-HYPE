{
 "cells": [
  {
   "cell_type": "markdown",
   "id": "e99f0981-5a8e-433d-8893-4f95df931192",
   "metadata": {},
   "source": [
    "# Description\n",
    "_______\n",
    "\n",
    "This workflow converts outputs from Datatool and EASYMORE to HYPE Pobs and Tobs files. The timezone is changed and the data is resampled from hourly into daily. "
   ]
  },
  {
   "cell_type": "code",
   "execution_count": null,
   "id": "819f2aaf-cb61-4e9d-887e-354f5a4926b0",
   "metadata": {},
   "outputs": [],
   "source": [
    "import os\n",
    "import xarray as xr\n",
    "import pandas as pd\n",
    "import numpy as np\n",
    "import geopandas as gpd\n",
    "import glob \n",
    "import pytz\n",
    "import dask.array as da"
   ]
  },
  {
   "cell_type": "markdown",
   "id": "11b12acf-0e98-4ff5-8f24-c7db918c2e8a",
   "metadata": {},
   "source": [
    "### Inputs"
   ]
  },
  {
   "cell_type": "code",
   "execution_count": null,
   "id": "cd81060d-0b17-4825-be36-ebb42babf35e",
   "metadata": {},
   "outputs": [],
   "source": [
    "# Set the folder path where easymore output .nc files are located\n",
    "folder_path = '/home/paulc600/local/Easymore/HYPE_merged_easymore/*.nc'"
   ]
  },
  {
   "cell_type": "code",
   "execution_count": null,
   "id": "8707aeb8-43c7-4f8c-a7a2-57952ddf82e4",
   "metadata": {},
   "outputs": [],
   "source": [
    "# Define the initial and desired time zones\n",
    "utc_tz = pytz.UTC\n",
    "mst_tz = pytz.timezone('US/Mountain')"
   ]
  },
  {
   "cell_type": "code",
   "execution_count": null,
   "id": "3949c4eb-a783-42c8-94cb-41070785538c",
   "metadata": {},
   "outputs": [],
   "source": [
    "# Set the output folder path where you want to save the text files\n",
    "output_folder_path = '/home/paulc600/scratch/HYPE/Landsat/01_inputs/'"
   ]
  },
  {
   "cell_type": "markdown",
   "id": "143724e3-cba0-4d56-86e2-59997118bc73",
   "metadata": {},
   "source": [
    "### Generate Input Files"
   ]
  },
  {
   "cell_type": "code",
   "execution_count": null,
   "id": "beba5b98-8971-4cbb-8425-7eb5b53492c8",
   "metadata": {},
   "outputs": [],
   "source": [
    "# Get a list of all .nc files in the folder\n",
    "file_list = glob.glob(folder_path)"
   ]
  },
  {
   "cell_type": "code",
   "execution_count": null,
   "id": "9b34f4d5-d698-44d1-b8c5-1bf9b022c03a",
   "metadata": {},
   "outputs": [],
   "source": [
    "# Open the .nc files using xarray's open_mfdataset\n",
    "dataset = xr.open_mfdataset(file_list, combine='by_coords')"
   ]
  },
  {
   "cell_type": "code",
   "execution_count": null,
   "id": "71e909bf-6a24-40b5-9fcc-8721630ac4c2",
   "metadata": {},
   "outputs": [],
   "source": [
    "# Extract the time coordinate from the dataset\n",
    "time_coords = dataset.coords['time']"
   ]
  },
  {
   "cell_type": "code",
   "execution_count": null,
   "id": "5ff9044f-f470-420a-8280-b88f65e0c78b",
   "metadata": {},
   "outputs": [],
   "source": [
    "# Convert the object array to pandas Timestamp objects\n",
    "time_values = pd.to_datetime(time_coords.data)"
   ]
  },
  {
   "cell_type": "code",
   "execution_count": null,
   "id": "49b79db6-9fd8-4c1c-883d-af9cd4aea308",
   "metadata": {},
   "outputs": [],
   "source": [
    "# Convert time from UTC to MST using pandas Timestamp\n",
    "converted_times = [utc_tz.localize(dt).astimezone(mst_tz) for dt in time_values]"
   ]
  },
  {
   "cell_type": "code",
   "execution_count": null,
   "id": "bea88c45-5bb2-46d7-9e87-91b3f13715a7",
   "metadata": {},
   "outputs": [],
   "source": [
    "# Create a new dataset with the converted time coordinate\n",
    "ds_converted = dataset.assign_coords(time=converted_times)"
   ]
  },
  {
   "cell_type": "code",
   "execution_count": null,
   "id": "a7c304c3-7505-443c-867a-b7f6c219d9ab",
   "metadata": {},
   "outputs": [],
   "source": [
    "# Resample 'temperature' to daily mean and 'precipitation' to daily sum\n",
    "temperature_daily_mean = ds_converted['temperature'].resample(time='D').mean(dim='time')\n",
    "precipitation_daily_sum = ds_converted['precipitation'].resample(time='D').sum(dim='time')"
   ]
  },
  {
   "cell_type": "code",
   "execution_count": null,
   "id": "167ed567-edda-4fd1-bc9c-940ae383f8b2",
   "metadata": {},
   "outputs": [],
   "source": [
    "# Convert the resampled data variables to pandas DataFrames\n",
    "temperature_df = temperature_daily_mean.to_dataframe()\n",
    "precipitation_df = precipitation_daily_sum.to_dataframe()"
   ]
  },
  {
   "cell_type": "code",
   "execution_count": null,
   "id": "6ccd2013-97dc-4fb8-851e-13bc0b831e5d",
   "metadata": {},
   "outputs": [],
   "source": [
    "# Reset the index of the DataFrames\n",
    "precipitation_df = precipitation_df.reset_index()\n",
    "temperature_df = temperature_df.reset_index()"
   ]
  },
  {
   "cell_type": "code",
   "execution_count": null,
   "id": "ae433775-5106-4f8c-a4e5-38ba1c34e586",
   "metadata": {},
   "outputs": [],
   "source": [
    "# Convert ID column to integer\n",
    "precipitation_df['ID'] = precipitation_df['ID'].astype(int)\n",
    "temperature_df['ID'] = temperature_df['ID'].astype(int)\n",
    "New_ID['seg_nhm'] = New_ID['seg_nhm'].astype(int)"
   ]
  },
  {
   "cell_type": "code",
   "execution_count": null,
   "id": "f4544e57-6901-4661-a444-657d800194f1",
   "metadata": {},
   "outputs": [],
   "source": [
    "# Format precipitation and temperature data to 3 significant figures\n",
    "precipitation_df['precipitation'] = precipitation_df['precipitation'].apply(lambda x: '{:.3g}'.format(x) if not np.isnan(x) else '')\n",
    "temperature_df['temperature'] = temperature_df['temperature'].apply(lambda x: '{:.3g}'.format(x) if not np.isnan(x) else '')"
   ]
  },
  {
   "cell_type": "code",
   "execution_count": null,
   "id": "129bd501-785a-41d6-a888-7d300c1c1900",
   "metadata": {},
   "outputs": [],
   "source": [
    "temperature_pivoted = temperature_df.pivot(index='time', columns='ID', values='temperature')\n",
    "precipitation_pivoted = precipitation_df.pivot(index='time', columns='ID', values='precipitation')"
   ]
  },
  {
   "cell_type": "code",
   "execution_count": null,
   "id": "9815b694-7a3e-49dc-8195-f987929172b2",
   "metadata": {},
   "outputs": [],
   "source": [
    "# Convert the datetime index to a string representation with 'YYYY-MM-DD' format\n",
    "temperature_pivoted.index = temperature_pivoted.index.strftime('%Y-%m-%d')\n",
    "precipitation_pivoted.index = precipitation_pivoted.index.strftime('%Y-%m-%d')"
   ]
  },
  {
   "cell_type": "code",
   "execution_count": null,
   "id": "3ad14856-65ba-4d70-b3c7-594c8c0ad9fc",
   "metadata": {},
   "outputs": [],
   "source": [
    "# Convert from m to mm \n",
    "precipitation_pivoted= precipitation_pivoted.multiply(1000) # Multiply all values in the DataFrame by 1000 (m to mm)"
   ]
  },
  {
   "cell_type": "code",
   "execution_count": null,
   "id": "cbd25050-d251-44a4-b59f-baec46132a83",
   "metadata": {},
   "outputs": [],
   "source": [
    "# Save the DataFrames to text files with time and separate columns for each ID\n",
    "precipitation_pivoted.to_csv(os.path.join(output_folder_path, 'Pobs(m).txt'), sep='\\t', na_rep='', index_label='time')\n",
    "temperature_pivoted.to_csv(os.path.join(output_folder_path, 'Tobs.txt'), sep='\\t', na_rep='', index_label='time')"
   ]
  },
  {
   "cell_type": "code",
   "execution_count": null,
   "id": "3c1a6763-bb59-4614-8a2f-da62460fdfe8",
   "metadata": {},
   "outputs": [],
   "source": []
  }
 ],
 "metadata": {
  "kernelspec": {
   "display_name": "Python 3 (ipykernel)",
   "language": "python",
   "name": "python3"
  },
  "language_info": {
   "codemirror_mode": {
    "name": "ipython",
    "version": 3
   },
   "file_extension": ".py",
   "mimetype": "text/x-python",
   "name": "python",
   "nbconvert_exporter": "python",
   "pygments_lexer": "ipython3",
   "version": "3.10.13"
  }
 },
 "nbformat": 4,
 "nbformat_minor": 5
}
