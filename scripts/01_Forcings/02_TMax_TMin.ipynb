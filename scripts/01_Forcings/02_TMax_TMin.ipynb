{
 "cells": [
  {
   "cell_type": "markdown",
   "id": "0c0f408e-da74-43cc-8a53-ee6b1675ff61",
   "metadata": {},
   "source": [
    "# Description\n",
    "_______\n",
    "\n",
    "This workflow converts outputs from Datatool and EASYMORE to HYPE TMAX and TMIN files. The timezone is changed and the data is resampled from hourly into daily. "
   ]
  },
  {
   "cell_type": "code",
   "execution_count": 1,
   "id": "819f2aaf-cb61-4e9d-887e-354f5a4926b0",
   "metadata": {},
   "outputs": [],
   "source": [
    "import os\n",
    "import xarray as xr\n",
    "import pandas as pd\n",
    "import numpy as np\n",
    "import geopandas as gpd\n",
    "import glob \n",
    "import pytz\n",
    "import dask.array as da"
   ]
  },
  {
   "cell_type": "markdown",
   "id": "9dfd52c8-f81b-44ed-a3bd-30437dc2a1e7",
   "metadata": {},
   "source": [
    "### Inputs "
   ]
  },
  {
   "cell_type": "code",
   "execution_count": 2,
   "id": "cd81060d-0b17-4825-be36-ebb42babf35e",
   "metadata": {},
   "outputs": [],
   "source": [
    "# Set the folder path where your .nc files are located\n",
    "folder_path = '/home/paulc600/local/Easymore/HYPE_merged_easymore/*.nc'"
   ]
  },
  {
   "cell_type": "code",
   "execution_count": 3,
   "id": "3949c4eb-a783-42c8-94cb-41070785538c",
   "metadata": {},
   "outputs": [],
   "source": [
    "# Set the output folder path where you want to save the text files\n",
    "output_folder_path = '/home/paulc600/scratch/HYPE/Landsat/06_maxmin/'"
   ]
  },
  {
   "cell_type": "code",
   "execution_count": 9,
   "id": "8707aeb8-43c7-4f8c-a7a2-57952ddf82e4",
   "metadata": {},
   "outputs": [],
   "source": [
    "# Define the UTC and MST time zones\n",
    "utc_tz = pytz.UTC\n",
    "mst_tz = pytz.timezone('US/Mountain')"
   ]
  },
  {
   "cell_type": "markdown",
   "id": "8d94343a-37cd-4c7e-a164-b8706072aeef",
   "metadata": {},
   "source": [
    "### Create Files"
   ]
  },
  {
   "cell_type": "code",
   "execution_count": 4,
   "id": "beba5b98-8971-4cbb-8425-7eb5b53492c8",
   "metadata": {},
   "outputs": [],
   "source": [
    "# Get a list of all .nc files in the folder\n",
    "file_list = glob.glob(folder_path)"
   ]
  },
  {
   "cell_type": "code",
   "execution_count": 5,
   "id": "9b34f4d5-d698-44d1-b8c5-1bf9b022c03a",
   "metadata": {},
   "outputs": [],
   "source": [
    "# Open the .nc files using xarray's open_mfdataset\n",
    "dataset = xr.open_mfdataset(file_list, combine='by_coords')"
   ]
  },
  {
   "cell_type": "code",
   "execution_count": 7,
   "id": "71e909bf-6a24-40b5-9fcc-8721630ac4c2",
   "metadata": {},
   "outputs": [],
   "source": [
    "# Extract the time coordinate from the dataset\n",
    "time_coords = dataset.coords['time']"
   ]
  },
  {
   "cell_type": "code",
   "execution_count": 8,
   "id": "5ff9044f-f470-420a-8280-b88f65e0c78b",
   "metadata": {},
   "outputs": [],
   "source": [
    "# Convert the object array to pandas Timestamp objects\n",
    "time_values = pd.to_datetime(time_coords.data)"
   ]
  },
  {
   "cell_type": "code",
   "execution_count": 10,
   "id": "49b79db6-9fd8-4c1c-883d-af9cd4aea308",
   "metadata": {},
   "outputs": [],
   "source": [
    "# Convert time from UTC to MST using pandas Timestamp\n",
    "converted_times = [utc_tz.localize(dt).astimezone(mst_tz) for dt in time_values]"
   ]
  },
  {
   "cell_type": "code",
   "execution_count": 11,
   "id": "bea88c45-5bb2-46d7-9e87-91b3f13715a7",
   "metadata": {},
   "outputs": [],
   "source": [
    "# Create a new dataset with the converted time coordinate\n",
    "ds_converted = dataset.assign_coords(time=converted_times)"
   ]
  },
  {
   "cell_type": "code",
   "execution_count": 13,
   "id": "a7c304c3-7505-443c-867a-b7f6c219d9ab",
   "metadata": {},
   "outputs": [],
   "source": [
    "# Resample the temperature array to daily maximum and minimum\n",
    "temperature_daily_max = ds_converted['temperature'].resample(time='D').max(dim='time')\n",
    "temperature_daily_min = ds_converted['temperature'].resample(time='D').min(dim='time')"
   ]
  },
  {
   "cell_type": "code",
   "execution_count": 15,
   "id": "167ed567-edda-4fd1-bc9c-940ae383f8b2",
   "metadata": {},
   "outputs": [],
   "source": [
    "# Convert the resampled data variables to pandas DataFrames\n",
    "temperature_daily_max_df = temperature_daily_max.to_dataframe().unstack('ID')['temperature']\n",
    "temperature_daily_min_df = temperature_daily_min.to_dataframe().unstack('ID')['temperature']"
   ]
  },
  {
   "cell_type": "code",
   "execution_count": 36,
   "id": "9815b694-7a3e-49dc-8195-f987929172b2",
   "metadata": {},
   "outputs": [],
   "source": [
    "# Convert the datetime index to a string representation with 'YYYY-MM-DD' format\n",
    "temperature_daily_max_df.index = temperature_daily_max_df.index.strftime('%Y-%m-%d')\n",
    "temperature_daily_min_df.index = temperature_daily_min_df.index.strftime('%Y-%m-%d')"
   ]
  },
  {
   "cell_type": "code",
   "execution_count": 39,
   "id": "cbd25050-d251-44a4-b59f-baec46132a83",
   "metadata": {},
   "outputs": [],
   "source": [
    "# Save the DataFrames to text files with time and separate columns for each ID\n",
    "temperature_daily_max_df.to_csv(os.path.join(output_folder_path, 'TMAXobs.txt'), sep='\\t', na_rep='', index_label='time')\n",
    "temperature_daily_min_df.to_csv(os.path.join(output_folder_path, 'TMINobs.txt'), sep='\\t', na_rep='', index_label='time')"
   ]
  },
  {
   "cell_type": "code",
   "execution_count": null,
   "id": "3c1a6763-bb59-4614-8a2f-da62460fdfe8",
   "metadata": {},
   "outputs": [],
   "source": []
  }
 ],
 "metadata": {
  "kernelspec": {
   "display_name": "Python 3 (ipykernel)",
   "language": "python",
   "name": "python3"
  },
  "language_info": {
   "codemirror_mode": {
    "name": "ipython",
    "version": 3
   },
   "file_extension": ".py",
   "mimetype": "text/x-python",
   "name": "python",
   "nbconvert_exporter": "python",
   "pygments_lexer": "ipython3",
   "version": "3.10.13"
  }
 },
 "nbformat": 4,
 "nbformat_minor": 5
}
